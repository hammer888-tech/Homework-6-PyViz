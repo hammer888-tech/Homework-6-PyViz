{
 "cells": [
  {
   "cell_type": "markdown",
   "metadata": {},
   "source": [
    "# Toronto Dwellings Analysis Dashboard\n",
    "\n",
    "In this notebook, you will compile the visualizations from the previous analysis into functions to create a Panel dashboard."
   ]
  },
  {
   "cell_type": "code",
   "execution_count": 7,
   "metadata": {},
   "outputs": [],
   "source": [
    "# imports\n",
    "import panel as pn\n",
    "pn.extension('plotly')\n",
    "import plotly.express as px\n",
    "import pandas as pd\n",
    "import hvplot.pandas\n",
    "import matplotlib.pyplot as plt\n",
    "import os\n",
    "from pathlib import Path\n",
    "from dotenv import load_dotenv"
   ]
  },
  {
   "cell_type": "code",
   "execution_count": 8,
   "metadata": {},
   "outputs": [],
   "source": [
    "# Initialize the Panel Extensions (for Plotly)\n",
    "import panel as pn\n",
    "pn.extension(\"plotly\")"
   ]
  },
  {
   "cell_type": "code",
   "execution_count": 9,
   "metadata": {},
   "outputs": [],
   "source": [
    "# Read the Mapbox API key\n",
    "load_dotenv()\n",
    "map_box_api = os.getenv(\"mapbox\")\n",
    "px.set_mapbox_access_token(map_box_api)"
   ]
  },
  {
   "cell_type": "markdown",
   "metadata": {},
   "source": [
    "# Import Data"
   ]
  },
  {
   "cell_type": "code",
   "execution_count": 10,
   "metadata": {},
   "outputs": [],
   "source": [
    "# Import the CSVs to Pandas DataFrames\n",
    "file_path = Path(\"Data/toronto_neighbourhoods_census_data.csv\")\n",
    "to_data = pd.read_csv(file_path, index_col=\"year\")\n",
    "\n",
    "file_path = Path(\"Data/toronto_neighbourhoods_coordinates.csv\")\n",
    "df_neighbourhood_locations = pd.read_csv(file_path)"
   ]
  },
  {
   "cell_type": "markdown",
   "metadata": {},
   "source": [
    "- - -"
   ]
  },
  {
   "cell_type": "markdown",
   "metadata": {},
   "source": [
    "## Panel Visualizations\n",
    "\n",
    "In this section, you will copy the code for each plot type from your analysis notebook and place it into separate functions that Panel can use to create panes for the dashboard. \n",
    "\n",
    "These functions will convert the plot object to a Panel pane.\n",
    "\n",
    "Be sure to include any DataFrame transformation/manipulation code required along with the plotting code.\n",
    "\n",
    "Return a Panel pane object from each function that can be used to build the dashboard.\n",
    "\n",
    "Note: Remove any `.show()` lines from the code. We want to return the plots instead of showing them. The Panel dashboard will then display the plots."
   ]
  },
  {
   "cell_type": "markdown",
   "metadata": {},
   "source": [
    "### Global available data"
   ]
  },
  {
   "cell_type": "code",
   "execution_count": 15,
   "metadata": {},
   "outputs": [],
   "source": [
    "# Getting the data from the top 10 expensive neighbourhoods\n",
    "to_data_mean = to_data.reset_index().copy().drop(columns=[\"year\"]).set_index(\"neighbourhood\").groupby(\"neighbourhood\").mean().sort_values(\"average_house_value\", ascending=False)\n",
    "\n",
    "# Calculate the mean number of dwelling types units per year\n",
    "to_data_groupby = to_data.groupby(\"year\").sum().drop(columns=[\"average_house_value\", \"shelter_costs_owned\", \"shelter_costs_rented\"])\n",
    "\n",
    "# Calculate the average monthly shelter costs for owned and rented dwellings\n",
    "to_data_shelter_costs = (to_data[[\"shelter_costs_owned\", \"shelter_costs_rented\"]]).groupby('year').mean()"
   ]
  },
  {
   "cell_type": "markdown",
   "metadata": {},
   "source": [
    "### Panel Visualization Functions"
   ]
  },
  {
   "cell_type": "code",
   "execution_count": 29,
   "metadata": {},
   "outputs": [],
   "source": [
    "# Define Panel visualization functions\n",
    "to_data_mean_neighbour = to_data_mean.sort_values(\"neighbourhood\")\n",
    "\n",
    "df_locations_mean = pd.concat([df_neighbourhood_locations, to_data_mean_neighbour], axis=\"columns\", join=\"inner\").reset_index()\n",
    "def neighbourhood_map():\n",
    "    map_info = px.scatter_mapbox(\n",
    "        df_locations_mean,\n",
    "        lat=\"lat\",\n",
    "        lon=\"lon\",\n",
    "        hover_data=df_locations_mean,\n",
    "        hover_name=\"neighbourhood\",\n",
    "        size=\"average_house_value\",\n",
    "        color=\"average_house_value\",\n",
    "        color_continuous_scale=\"icefire\",\n",
    "        title=\"Average House Value in Toronto\",\n",
    "        zoom=9,\n",
    "        width=900, \n",
    "        height=500)\n",
    "    return map_info\n",
    "\n",
    "def create_bar_chart(data, title, xlabel, ylabel, color):\n",
    "    to_data_type = data.hvplot.bar(\n",
    "    title=(title),\n",
    "    xlabel=(xlabel), \n",
    "    ylabel=(ylabel),\n",
    "    color=(color),\n",
    "    rot=90,\n",
    "    width=600, height=500).opts(\n",
    "    yformatter=\"%.0f\")\n",
    "    return to_data_type\n",
    "\n",
    "def create_line_chart(data, title, xlabel, ylabel, color):\n",
    "    to_data_shelter = data.hvplot.line(\n",
    "    title=(title),\n",
    "    xlabel=(xlabel), \n",
    "    ylabel=(ylabel),\n",
    "    color=(color),\n",
    "    width=550, \n",
    "    height=350\n",
    "    )\n",
    "    return to_data_shelter\n",
    "\n",
    "average_house_value = (to_data[[\"average_house_value\"]]).groupby(\"year\").mean().sort_values(\"year\")\n",
    "def average_house_value():\n",
    "    average_house_value_fig = average_house_value.hvplot.line(\n",
    "        x=\"year\",\n",
    "        y=\"average_house_value\",\n",
    "        xlabel=\"Year\", \n",
    "        ylabel=\"Avg House Value\",\n",
    "        title=\"Average House Value in Toronto\",\n",
    "        width=480, \n",
    "        height=350,\n",
    "    ).opts(line_color='blue', yformatter=\"%.0f\")\n",
    "    return average_house_value_fig\n",
    "\n",
    "def average_value_by_neighbourhood():\n",
    "    avg_per_neighb_plot = avg_per_neighb.hvplot.line(\n",
    "        x=\"year\",\n",
    "        y=\"average_house_value\",\n",
    "        xlabel=\"Year\", \n",
    "        ylabel=\"Avg House Value\",\n",
    "        title=\"Neighbourhood:\",\n",
    "        groupby='neighbourhood',\n",
    "        width=600, \n",
    "        height=450).opts(line_color='blue', yformatter=\"%.0f\")\n",
    "    return avg_per_neighb_plot\n",
    "   \n",
    "def number_dwelling_types():\n",
    "    dwelling_types = to_data_all.hvplot.bar(\n",
    "        xlabel=\"Year\", \n",
    "        ylabel=\"Dwelling Types Units\",\n",
    "        title=\"Neighbourhood:\",\n",
    "        groupby='neighbourhood',\n",
    "        rot=90,\n",
    "        width=600, \n",
    "        height=450).opts(line_color='blue', yformatter=\"%.0f\")\n",
    "    return dwelling_types\n",
    "\n",
    "def average_house_value_snapshot():\n",
    "    fig = px.bar(\n",
    "        to_data_year, \n",
    "        x=\"neighbourhood\", \n",
    "        y=\"average_house_value\", \n",
    "        color=\"average_house_value\", \n",
    "        facet_row=\"year\",\n",
    "        facet_row_spacing=0.04,\n",
    "        facet_col_spacing=0.04,\n",
    "        height=1000, width=900,\n",
    "        title=\"Average House Values in Toronto per Neighbourhood\"\n",
    "        )\n",
    "    return fig\n",
    "\n",
    "def top_most_expensive_neighbourhoods():\n",
    "    to_data_exp_top10 = to_data_mean.iloc[0:10, :].hvplot.bar(\n",
    "    x='neighbourhood', \n",
    "    y='average_house_value',\n",
    "    xlabel=\"Neighbourhood\", \n",
    "    ylabel=\"Avg House Value\",\n",
    "    title=\"Top 10 Expensive Neighbourhood in Toronto\",\n",
    "    rot=90,  \n",
    "    width=600, \n",
    "    height=500).opts(\n",
    "    yformatter=\"%.0f\"\n",
    "    )\n",
    "    return to_data_exp_top10\n",
    "\n",
    "to_data_expensive = to_data.loc[to_data[\"average_house_value\"] >= 600000, :].reset_index()\n",
    "def sunburts_cost_analysis():\n",
    "    fig_1 = px.sunburst(to_data_expensive, path=[\"year\", \"neighbourhood\"], values=\"average_house_value\",\n",
    "                  color=\"shelter_costs_owned\", hover_data=[\"average_house_value\"],\n",
    "                  color_continuous_scale=\"Blues\", title=\"Costs Analysis of Most Expensive Neighbourhood in Toronto per Year\",\n",
    "                  color_continuous_midpoint=np.average(to_data_expensive[\"shelter_costs_owned\"], \n",
    "                                                       weights=to_data_expensive[\"shelter_costs_rented\"]))\n",
    "    return fig_1\n",
    "\n",
    "#def choose_neighbourhood(neighbourhood):\n",
    "#    return neighbourhood\n",
    "\n",
    "#def interact_neighbourhood():\n",
    "#    interact(choose_neighbourhood, neighbourhood=list_of_neighbourhood)\n",
    "#    return interact\n"
   ]
  },
  {
   "cell_type": "code",
   "execution_count": 27,
   "metadata": {},
   "outputs": [],
   "source": [
    "# Bar chart for 2001\n",
    "create_bar_chart_2001 = create_bar_chart(\n",
    "    data = to_data_groupby.iloc[0],\n",
    "    title=\"Dwelling Types Units in Toronto in 2001\",\n",
    "    xlabel=\"2001\", \n",
    "    ylabel=\"Dwelling Type Units\",\n",
    "    color=\"red\",\n",
    "    )\n",
    "\n",
    "# Bar chart for 2006\n",
    "create_bar_chart_2006 = create_bar_chart(\n",
    "    data = to_data_groupby.iloc[1],\n",
    "    title=\"Dwelling Types Units in Toronto in 2006\",\n",
    "    xlabel=\"2006\", \n",
    "    ylabel=\"Dwelling Type Units\",\n",
    "    color=\"blue\",\n",
    "    )\n",
    "\n",
    "# Bar chart for 2011\n",
    "create_bar_chart_2011 = create_bar_chart(\n",
    "    data = to_data_groupby.iloc[2],\n",
    "    title=\"Dwelling Types Units in Toronto in 2011\",\n",
    "    xlabel=\"2011\", \n",
    "    ylabel=\"Dwelling Type Units\",\n",
    "    color=\"orange\",\n",
    "    )\n",
    "\n",
    "# Bar chart for 2016\n",
    "create_bar_chart_2016 = create_bar_chart(\n",
    "    data = to_data_groupby.iloc[3],\n",
    "    title=\"Dwelling Types Units in Toronto in 2016\",\n",
    "    xlabel=\"2016\", \n",
    "    ylabel=\"Dwelling Type Units\",\n",
    "    color=\"magenta\",\n",
    "    )"
   ]
  },
  {
   "cell_type": "markdown",
   "metadata": {},
   "source": [
    "## Panel Dashboard\n",
    "\n",
    "In this section, you will combine all of the plots into a single dashboard view using Panel. Be creative with your dashboard design!"
   ]
  },
  {
   "cell_type": "code",
   "execution_count": 28,
   "metadata": {},
   "outputs": [
    {
     "ename": "NameError",
     "evalue": "name 'create_line_shelter_owned' is not defined",
     "output_type": "error",
     "traceback": [
      "\u001b[0;31m---------------------------------------------------------------------------\u001b[0m",
      "\u001b[0;31mNameError\u001b[0m                                 Traceback (most recent call last)",
      "\u001b[0;32m<ipython-input-28-30ee5f717a6e>\u001b[0m in \u001b[0;36m<module>\u001b[0;34m\u001b[0m\n\u001b[1;32m     11\u001b[0m \u001b[0mrow_of_dwelling_types_2\u001b[0m \u001b[0;34m=\u001b[0m \u001b[0mpn\u001b[0m\u001b[0;34m.\u001b[0m\u001b[0mRow\u001b[0m\u001b[0;34m(\u001b[0m\u001b[0mcreate_bar_chart_2011\u001b[0m \u001b[0;34m+\u001b[0m \u001b[0mcreate_bar_chart_2016\u001b[0m\u001b[0;34m)\u001b[0m\u001b[0;34m\u001b[0m\u001b[0;34m\u001b[0m\u001b[0m\n\u001b[1;32m     12\u001b[0m \u001b[0mmkt_column\u001b[0m \u001b[0;34m=\u001b[0m \u001b[0mpn\u001b[0m\u001b[0;34m.\u001b[0m\u001b[0mColumn\u001b[0m\u001b[0;34m(\u001b[0m\u001b[0mrow_of_dwelling_types\u001b[0m\u001b[0;34m,\u001b[0m \u001b[0mrow_of_dwelling_types_2\u001b[0m\u001b[0;34m)\u001b[0m\u001b[0;34m\u001b[0m\u001b[0;34m\u001b[0m\u001b[0m\n\u001b[0;32m---> 13\u001b[0;31m \u001b[0mcosts_column\u001b[0m \u001b[0;34m=\u001b[0m \u001b[0mpn\u001b[0m\u001b[0;34m.\u001b[0m\u001b[0mColumn\u001b[0m\u001b[0;34m(\u001b[0m\u001b[0mcreate_line_shelter_owned\u001b[0m\u001b[0;34m,\u001b[0m \u001b[0mcreate_line_shelter_rented\u001b[0m\u001b[0;34m,\u001b[0m \u001b[0maverage_house_value_plot\u001b[0m\u001b[0;34m)\u001b[0m\u001b[0;34m\u001b[0m\u001b[0;34m\u001b[0m\u001b[0m\n\u001b[0m\u001b[1;32m     14\u001b[0m \u001b[0;34m\u001b[0m\u001b[0m\n\u001b[1;32m     15\u001b[0m \u001b[0mcolumn_of_analysis_1\u001b[0m \u001b[0;34m=\u001b[0m \u001b[0mpn\u001b[0m\u001b[0;34m.\u001b[0m\u001b[0mColumn\u001b[0m\u001b[0;34m(\u001b[0m\u001b[0maverage_value_by_neighbourhood\u001b[0m\u001b[0;34m,\u001b[0m \u001b[0mnumber_dwelling_types\u001b[0m\u001b[0;34m)\u001b[0m\u001b[0;34m\u001b[0m\u001b[0;34m\u001b[0m\u001b[0m\n",
      "\u001b[0;31mNameError\u001b[0m: name 'create_line_shelter_owned' is not defined"
     ]
    }
   ],
   "source": [
    "# Create a Title for the Dashboard\n",
    "dashboard_title = \"Toronto Real Estate Analysis from 2001 to 2016\"\n",
    "\n",
    "# Define a welcome text\n",
    "welcome_column = pn.Column(\n",
    "    \"This Dashbord presents a visual analysis of historical house values, dwelling types per neighbourhood and dwelling costs in Toronto, Ontario according to census data from 2001 to 2016. You can navigate through the tabs above to explore more details about the evolution of the real estate market for these years.\",\n",
    "        neighbourhood_map)\n",
    "\n",
    "# Create the main dashboard\n",
    "row_of_dwelling_types = pn.Row(create_bar_chart_2001 + create_bar_chart_2006) \n",
    "row_of_dwelling_types_2 = pn.Row(create_bar_chart_2011 + create_bar_chart_2016)\n",
    "mkt_column = pn.Column(row_of_dwelling_types, row_of_dwelling_types_2)\n",
    "costs_column = pn.Column(create_line_shelter_owned, create_line_shelter_rented, average_house_value_plot)\n",
    "\n",
    "column_of_analysis_1 = pn.Column(average_value_by_neighbourhood, number_dwelling_types)\n",
    "column_of_analysis_2 = pn.Column(average_house_value_snapshot)\n",
    "\n",
    "row_of_analysis = pn.Row(column_of_analysis_1, column_of_analysis_2)\n",
    "row_of_top_exp = pn.Row(top_most_expensive_neighbourhoods, sunburts_cost_analysis)\n",
    "\n",
    "# Create a tab layout for the dashboard\n",
    "dashboard = pn.Column(dashboard_title,\n",
    "                      pn.Tabs(\n",
    "                          (\"Welcome\", welcome_column),\n",
    "                          (\"Yearly Market Analysis\", mkt_column),\n",
    "                          (\"Shelter Costs Vs. House Value\", costs_column),\n",
    "                          (\"Neighbourhood Analysis\", row_of_analysis),\n",
    "                          (\"Top Expensive Neighbourhood\", row_of_top_exp)\n",
    "))                          "
   ]
  },
  {
   "cell_type": "markdown",
   "metadata": {},
   "source": [
    "## Serve the Panel Dashboard"
   ]
  },
  {
   "cell_type": "code",
   "execution_count": 23,
   "metadata": {},
   "outputs": [
    {
     "ename": "NameError",
     "evalue": "name 'dashboard' is not defined",
     "output_type": "error",
     "traceback": [
      "\u001b[0;31m---------------------------------------------------------------------------\u001b[0m",
      "\u001b[0;31mNameError\u001b[0m                                 Traceback (most recent call last)",
      "\u001b[0;32m<ipython-input-23-fbe9f69dae63>\u001b[0m in \u001b[0;36m<module>\u001b[0;34m\u001b[0m\n\u001b[0;32m----> 1\u001b[0;31m \u001b[0mdashboard\u001b[0m\u001b[0;34m.\u001b[0m\u001b[0mservable\u001b[0m\u001b[0;34m(\u001b[0m\u001b[0;34m)\u001b[0m\u001b[0;34m\u001b[0m\u001b[0;34m\u001b[0m\u001b[0m\n\u001b[0m",
      "\u001b[0;31mNameError\u001b[0m: name 'dashboard' is not defined"
     ]
    }
   ],
   "source": [
    "dashboard.servable()"
   ]
  },
  {
   "cell_type": "markdown",
   "metadata": {},
   "source": [
    "# Debugging\n",
    "\n",
    "Note: Some of the Plotly express plots may not render in the notebook through the panel functions.\n",
    "\n",
    "However, you can test each plot by uncommenting the following code"
   ]
  },
  {
   "cell_type": "code",
   "execution_count": 24,
   "metadata": {},
   "outputs": [],
   "source": [
    "#neighbourhood_map().show()"
   ]
  },
  {
   "cell_type": "code",
   "execution_count": 25,
   "metadata": {},
   "outputs": [],
   "source": [
    "#create_bar_chart(data, title, xlabel, ylabel, color)\n",
    "\n",
    "# Bar chart for 2001\n",
    "#create_bar_chart(df_dwelling_units.loc[2001], \"Dwelling Types in Toronto in 2001\", \"2001\", \"Dwelling Type Units\", \"red\")\n",
    "\n",
    "# # Bar chart for 2006\n",
    "# create_bar_chart(df_dwelling_units.loc[2006], \"Dwelling Types in Toronto in 2006\", \"2006\", \"Dwelling Type Units\", \"blue\")\n",
    "\n",
    "# # Bar chart for 2011\n",
    "# create_bar_chart(df_dwelling_units.loc[2011], \"Dwelling Types in Toronto in 2011\", \"2011\", \"Dwelling Type Units\", \"orange\")\n",
    "\n",
    "# # Bar chart for 2016\n",
    "# create_bar_chart(df_dwelling_units.loc[2016], \"Dwelling Types in Toronto in 2016\", \"2016\", \"Dwelling Type Units\", \"magenta\")"
   ]
  },
  {
   "cell_type": "code",
   "execution_count": null,
   "metadata": {},
   "outputs": [],
   "source": [
    "# create_line_chart(data, title, xlabel, ylabel, color)\n",
    "\n",
    "# # Line chart for owned dwellings\n",
    "# create_line_chart(df_avg_costs[\"shelter_costs_owned\"], \"Average Monthly Shelter Cost for Owned Dwellings in Toronto\", \"Year\", \"Avg Monthly Shelter Costs\", \"blue\")\n",
    "\n",
    "# # Line chart for rented dwellings\n",
    "# create_line_chart(df_avg_costs[\"shelter_costs_rented\"], \"Average Monthly Shelter Cost for Rented Dwellings in Toronto\", \"Year\", \"Avg Monthly Shelter Costs\", \"orange\")"
   ]
  },
  {
   "cell_type": "code",
   "execution_count": null,
   "metadata": {},
   "outputs": [],
   "source": [
    "# average_house_value()"
   ]
  },
  {
   "cell_type": "code",
   "execution_count": null,
   "metadata": {},
   "outputs": [],
   "source": [
    "# average_value_by_neighbourhood()"
   ]
  },
  {
   "cell_type": "code",
   "execution_count": null,
   "metadata": {},
   "outputs": [],
   "source": [
    "# number_dwelling_types()"
   ]
  },
  {
   "cell_type": "code",
   "execution_count": null,
   "metadata": {},
   "outputs": [],
   "source": [
    "# average_house_value_snapshot()"
   ]
  },
  {
   "cell_type": "code",
   "execution_count": null,
   "metadata": {},
   "outputs": [],
   "source": [
    "# top_most_expensive_neighbourhoods()"
   ]
  },
  {
   "cell_type": "code",
   "execution_count": null,
   "metadata": {},
   "outputs": [],
   "source": [
    "# sunburts_cost_analysis()"
   ]
  }
 ],
 "metadata": {
  "file_extension": ".py",
  "kernelspec": {
   "display_name": "Python [conda env:pyvizenv] *",
   "language": "python",
   "name": "conda-env-pyvizenv-py"
  },
  "language_info": {
   "codemirror_mode": {
    "name": "ipython",
    "version": 3
   },
   "file_extension": ".py",
   "mimetype": "text/x-python",
   "name": "python",
   "nbconvert_exporter": "python",
   "pygments_lexer": "ipython3",
   "version": "3.7.9"
  },
  "mimetype": "text/x-python",
  "name": "python",
  "npconvert_exporter": "python",
  "pygments_lexer": "ipython3",
  "version": 3
 },
 "nbformat": 4,
 "nbformat_minor": 4
}
